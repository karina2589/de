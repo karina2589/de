{
 "cells": [
  {
   "cell_type": "code",
   "id": "841df17c-358d-4064-b358-ce271cb719b0",
   "metadata": {
    "ExecuteTime": {
     "end_time": "2024-11-04T05:24:07.100889Z",
     "start_time": "2024-11-04T05:24:06.517896Z"
    }
   },
   "source": [
    "import sqlite3\n",
    "\n",
    "import pandas as pd"
   ],
   "outputs": [],
   "execution_count": 1
  },
  {
   "cell_type": "code",
   "execution_count": 4,
   "id": "22681e2d-1fb7-4180-bb79-1fcf00c90c53",
   "metadata": {},
   "outputs": [
    {
     "data": {
      "text/plain": [
       "9516"
      ]
     },
     "execution_count": 4,
     "metadata": {},
     "output_type": "execute_result"
    }
   ],
   "source": [
    "con = sqlite3.connect(\"my.db\")\n",
    "dataframe = pd.read_csv(\"stackOverflowSurvey.csv\")\n",
    "dataframe.to_sql('stackOverflowSurvey', con, if_exists='replace', index=False)"
   ]
  },
  {
   "cell_type": "code",
   "execution_count": 5,
   "id": "00d8ca1e-8c25-45db-8f58-040ce6254b07",
   "metadata": {},
   "outputs": [
    {
     "data": {
      "text/plain": [
       "<sqlite3.Cursor at 0x78369aeb9650>"
      ]
     },
     "execution_count": 5,
     "metadata": {},
     "output_type": "execute_result"
    }
   ],
   "source": [
    "cursor = con.cursor()\n",
    "cursor.execute(\"select * from stackOverflowSurvey\")"
   ]
  },
  {
   "cell_type": "code",
   "id": "8ce0e02a-0c20-449f-8860-01a12da89d0f",
   "metadata": {},
   "source": "cursor.fetchall()",
   "outputs": [],
   "execution_count": null
  },
  {
   "cell_type": "markdown",
   "id": "13d76886-9661-40b3-a54b-570c4558fed9",
   "metadata": {},
   "source": [
    "### Count the number of developers by their remote work status"
   ]
  },
  {
   "cell_type": "code",
   "execution_count": 16,
   "id": "693a393d-929f-477a-9e63-a529a226e8ca",
   "metadata": {},
   "outputs": [
    {
     "name": "stdout",
     "output_type": "stream",
     "text": [
      "Hybrid (some remote, some in-person) -- 3939\n",
      "In-person -- 1398\n",
      "Remote -- 4179\n"
     ]
    }
   ],
   "source": [
    "cursor.execute('SELECT RemoteWork, COUNT(*) AS Num_Developers FROM stackOverflowSurvey GROUP BY RemoteWork;')\n",
    "for types in cursor.fetchall():\n",
    "    print(f\"{types[0]} -- {types[1]}\")\n"
   ]
  },
  {
   "cell_type": "markdown",
   "id": "33f3e242-be24-488e-ab4a-2af9f2653601",
   "metadata": {},
   "source": [
    "### Average years of coding experience by employment status"
   ]
  },
  {
   "cell_type": "code",
   "execution_count": 20,
   "id": "ecb5747b-02b6-4d1a-9fc6-cfe25a86ef9b",
   "metadata": {},
   "outputs": [
    {
     "name": "stdout",
     "output_type": "stream",
     "text": [
      "Employed -- 13.88\n",
      "Not employed -- 16.74\n"
     ]
    }
   ],
   "source": [
    "cursor.execute('SELECT Employment_Status, AVG(YearsCode) AS Avg_Years_Experience FROM stackOverflowSurvey GROUP BY Employment_Status;')\n",
    "for types in cursor.fetchall():\n",
    "    print(f\"{types[0]} -- {round(types[1],2)}\")"
   ]
  },
  {
   "cell_type": "markdown",
   "id": "74c89186-70e2-4827-8acc-b8e83c8e1500",
   "metadata": {},
   "source": [
    "### Count of developers by education level and learning methods"
   ]
  },
  {
   "cell_type": "code",
   "execution_count": 24,
   "id": "0fbd01b4-6eb3-4e59-b4e5-28e37877e456",
   "metadata": {},
   "outputs": [
    {
     "name": "stdout",
     "output_type": "stream",
     "text": [
      "Degree -- Books / Physical Media -- 4054\n",
      "Degree -- Colleague / On-the-job Training -- 558\n",
      "Degree -- Online Courses / Bootcamps -- 2128\n",
      "Degree -- Other Online Resources -- 506\n",
      "Other -- Books / Physical Media -- 33\n",
      "Other -- Colleague / On-the-job Training -- 10\n",
      "Other -- Online Courses / Bootcamps -- 40\n",
      "Other -- Other Online Resources -- 5\n",
      "Secondary Education -- Books / Physical Media -- 273\n",
      "Secondary Education -- Colleague / On-the-job Training -- 47\n",
      "Secondary Education -- Online Courses / Bootcamps -- 143\n",
      "Secondary Education -- Other Online Resources -- 77\n",
      "Some College -- Books / Physical Media -- 888\n",
      "Some College -- Colleague / On-the-job Training -- 146\n",
      "Some College -- Online Courses / Bootcamps -- 476\n",
      "Some College -- Other Online Resources -- 132\n"
     ]
    }
   ],
   "source": [
    "cursor.execute('SELECT EdLevel, LearnCode, COUNT(*) AS Num_Developers FROM stackOverflowSurvey GROUP BY EdLevel, LearnCode;')\n",
    "for types in cursor.fetchall():\n",
    "    print(f\"{types[0]} -- {types[1]} -- {types[2]}\")"
   ]
  },
  {
   "cell_type": "markdown",
   "id": "9630f1ce-8a7e-458b-9080-bf694426de2c",
   "metadata": {},
   "source": [
    "### Top 3 most common tech categories used by developers"
   ]
  },
  {
   "cell_type": "code",
   "execution_count": 26,
   "id": "c5ca48d2-ee8e-4ba0-945b-f7fec4c3c610",
   "metadata": {},
   "outputs": [
    {
     "name": "stdout",
     "output_type": "stream",
     "text": [
      "Backend Technologies, Frontend Technologies -- 3495\n",
      "Frontend Technologies -- 1680\n",
      "Backend Technologies, JavaScript Libraries, Frontend Technologies -- 1372\n"
     ]
    }
   ],
   "source": [
    "cursor.execute('SELECT Tech_Category, COUNT(*) AS Usage_Count FROM stackOverflowSurvey GROUP BY Tech_Category ORDER BY Usage_Count DESC LIMIT 3')\n",
    "for types in cursor.fetchall():\n",
    "    print(f\"{types[0]} -- {types[1]}\")"
   ]
  }
 ],
 "metadata": {
  "kernelspec": {
   "display_name": "Python 3 (ipykernel)",
   "language": "python",
   "name": "python3"
  },
  "language_info": {
   "codemirror_mode": {
    "name": "ipython",
    "version": 3
   },
   "file_extension": ".py",
   "mimetype": "text/x-python",
   "name": "python",
   "nbconvert_exporter": "python",
   "pygments_lexer": "ipython3",
   "version": "3.9.19"
  }
 },
 "nbformat": 4,
 "nbformat_minor": 5
}
