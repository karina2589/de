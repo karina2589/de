{
 "cells": [
  {
   "cell_type": "code",
   "id": "initial_id",
   "metadata": {
    "collapsed": true,
    "ExecuteTime": {
     "end_time": "2024-12-04T07:37:26.991707Z",
     "start_time": "2024-12-04T07:37:26.235852Z"
    }
   },
   "source": [
    "import psycopg2\n",
    "import pandas as pd"
   ],
   "outputs": [],
   "execution_count": 2
  },
  {
   "metadata": {
    "ExecuteTime": {
     "end_time": "2024-12-04T07:39:48.317834Z",
     "start_time": "2024-12-04T07:39:48.313441Z"
    }
   },
   "cell_type": "code",
   "source": [
    "def get_db_connection():\n",
    "    return psycopg2.connect(\n",
    "    host='localhost',\n",
    "    database='sdulogs',\n",
    "    user='karina',\n",
    "    password='12345',\n",
    "    port = '5432'\n",
    ")"
   ],
   "id": "8369f3a9fa129fd9",
   "outputs": [],
   "execution_count": 7
  },
  {
   "metadata": {
    "ExecuteTime": {
     "end_time": "2024-12-04T07:39:49.196271Z",
     "start_time": "2024-12-04T07:39:49.184454Z"
    }
   },
   "cell_type": "code",
   "source": [
    " conn = get_db_connection()\n",
    "cur = conn.cursor()"
   ],
   "id": "73d323a43f3c8b8b",
   "outputs": [],
   "execution_count": 8
  },
  {
   "metadata": {
    "ExecuteTime": {
     "end_time": "2024-12-04T07:39:50.542638Z",
     "start_time": "2024-12-04T07:39:50.539372Z"
    }
   },
   "cell_type": "code",
   "source": "cur.execute('ROLLBACK;')",
   "id": "37458c8c87b9e1e4",
   "outputs": [],
   "execution_count": 9
  },
  {
   "metadata": {
    "ExecuteTime": {
     "end_time": "2024-12-04T07:39:53.955469Z",
     "start_time": "2024-12-04T07:39:53.950886Z"
    }
   },
   "cell_type": "code",
   "source": [
    "cur.execute(\"\"\"CREATE TABLE IF not exists LOGIN_LOGS (\n",
    "    user_id VARCHAR(64) NOT NULL, \n",
    "    user_ip VARCHAR(45),          \n",
    "    device_info TEXT,             \n",
    "    log_date TIMESTAMP,           \n",
    "    login_status INTEGER          \n",
    ");\n",
    "\"\"\")"
   ],
   "id": "8c41c4ca8d8188b0",
   "outputs": [],
   "execution_count": 10
  },
  {
   "metadata": {
    "ExecuteTime": {
     "end_time": "2024-12-04T07:39:57.834893Z",
     "start_time": "2024-12-04T07:39:57.817812Z"
    }
   },
   "cell_type": "code",
   "source": "cur.execute(\"\"\"insert into LOGIN_LOGS (user_id, user_ip, device_info, log_date, login_status) values ('4de7a7b4681ae9f4f25e0660d75c73be72e60537a48601acdef672f966221f3f', '176.69.24.126', 'Mozilla/5.0 (iPhone; CPU iPhone OS 10_0_2 like Mac OS X) AppleWebKit/600.1.4 (KHTML, like Gecko) GSA/21.1.139288856 Mobile/14A456 Safari/600.1.4', to_date('20-12-2016 16:45:22', 'dd-mm-yyyy hh24:mi:ss'), 1);\"\"\")",
   "id": "2b03b73259819882",
   "outputs": [],
   "execution_count": 11
  },
  {
   "metadata": {
    "ExecuteTime": {
     "end_time": "2024-12-03T13:26:41.769096Z",
     "start_time": "2024-12-03T13:26:41.761145Z"
    }
   },
   "cell_type": "code",
   "source": [
    "cur.execute('select * from LOGIN_LOGS')\n",
    "print(cur.fetchall())"
   ],
   "id": "142c2f6aa7653013",
   "outputs": [
    {
     "name": "stdout",
     "output_type": "stream",
     "text": [
      "[('4de7a7b4681ae9f4f25e0660d75c73be72e60537a48601acdef672f966221f3f', '176.69.24.126', 'Mozilla/5.0 (iPhone; CPU iPhone OS 10_0_2 like Mac OS X) AppleWebKit/600.1.4 (KHTML, like Gecko) GSA/21.1.139288856 Mobile/14A456 Safari/600.1.4', datetime.datetime(2016, 12, 20, 0, 0), 1)]\n"
     ]
    }
   ],
   "execution_count": 30
  },
  {
   "metadata": {},
   "cell_type": "code",
   "outputs": [],
   "execution_count": null,
   "source": "",
   "id": "8e3c4dc61fe6f367"
  },
  {
   "metadata": {},
   "cell_type": "markdown",
   "source": "### Extract",
   "id": "bab6f18edf713a53"
  },
  {
   "metadata": {
    "ExecuteTime": {
     "end_time": "2024-12-03T14:03:25.248095Z",
     "start_time": "2024-12-03T14:03:25.071364Z"
    }
   },
   "cell_type": "code",
   "source": [
    "with open('loginLogs-3-64.sql', 'r') as file:\n",
    "    sql_queries = file.read()"
   ],
   "id": "f94b1032f3b609ce",
   "outputs": [],
   "execution_count": 48
  },
  {
   "metadata": {},
   "cell_type": "markdown",
   "source": "### Transform & load",
   "id": "e9e5b461fb42ab1c"
  },
  {
   "metadata": {
    "ExecuteTime": {
     "end_time": "2024-12-03T13:52:08.913430Z",
     "start_time": "2024-12-03T13:52:08.896900Z"
    }
   },
   "cell_type": "code",
   "source": "len(sql_queries)",
   "id": "8e91231309aa6ba2",
   "outputs": [
    {
     "data": {
      "text/plain": [
       "64627585"
      ]
     },
     "execution_count": 33,
     "metadata": {},
     "output_type": "execute_result"
    }
   ],
   "execution_count": 33
  },
  {
   "metadata": {
    "ExecuteTime": {
     "end_time": "2024-12-03T14:03:28.406138Z",
     "start_time": "2024-12-03T14:03:28.390149Z"
    }
   },
   "cell_type": "code",
   "source": [
    "from airflow.models.dag import DAG\n",
    "import pendulum\n",
    "from airflow.operators.python import PythonOperator\n",
    "import psycopg2 \n",
    "\n",
    "with DAG(\n",
    "    \"first_dag\",\n",
    "    default_args={\"retries\": 2},\n",
    "    description=\"DAG tutorial\",\n",
    "    schedule=None,\n",
    "    start_date=pendulum.datetime(2024, 1, 1, tz=\"UTC\"),\n",
    "    catchup=False,\n",
    "    tags=[\"example\"],\n",
    ") as dag:\n",
    "    \n",
    "    def extract(**kwargs):\n",
    "        ti = kwargs['ti']\n",
    "        conn = get_db_connection()\n",
    "        cur = conn.cursor()\n",
    "        \n",
    "        cur.execute(\"\"\"CREATE TABLE IF NOT EXISTS LOGIN_LOGS (\n",
    "            user_id VARCHAR(64) NOT NULL, \n",
    "            user_ip VARCHAR(45),          \n",
    "            device_info TEXT,             \n",
    "            log_date TIMESTAMP,           \n",
    "            login_status INTEGER\n",
    "        );\"\"\")\n",
    "        \n",
    "        conn.commit()\n",
    "\n",
    "\n",
    "    def transform(**kwargs):         \n",
    "        ti = kwargs['ti']\n",
    "        \n",
    "        with open('loginLogs-3-64.sql', 'r') as file:\n",
    "            sql_queries = file.read()\n",
    "        \n",
    "        ti.xcom_push(key='sql_queries', value=sql_queries)\n",
    "    \n",
    "    def load(**kwargs):\n",
    "        ti = kwargs['ti']\n",
    "        \n",
    "        sql_queries = ti.xcom_pull(task_ids=\"transform\", key=\"sql_queries\")\n",
    "        \n",
    "        if sql_queries:\n",
    "            conn = get_db_connection()\n",
    "            cur = conn.cursor()\n",
    "            \n",
    "            for query in sql_queries.split(';'):\n",
    "                query = query.strip()\n",
    "                if query:  \n",
    "                    cur.execute(query)\n",
    "            \n",
    "            conn.commit()\n",
    "            cur.close()\n",
    "            conn.close()\n",
    "    \n",
    "  "
   ],
   "id": "ec6a46acd263c6c0",
   "outputs": [],
   "execution_count": 49
  },
  {
   "metadata": {
    "ExecuteTime": {
     "end_time": "2024-12-03T14:03:29.217044Z",
     "start_time": "2024-12-03T14:03:29.208802Z"
    }
   },
   "cell_type": "code",
   "source": [
    "extract_task = PythonOperator(\n",
    "        task_id=\"extract\",\n",
    "        python_callable=extract,\n",
    "        provide_context=True,\n",
    "        dag=dag,\n",
    "    )\n",
    "\n",
    "\n"
   ],
   "id": "803aa8a200f372ee",
   "outputs": [
    {
     "data": {
      "text/plain": [
       "\u001B[1;33m/tmp/ipykernel_257372/\u001B[0m\u001B[1;33m4121765707.py\u001B[0m\u001B[1;33m:\u001B[0m\u001B[1;33m1\u001B[0m\u001B[1;33m RemovedInAirflow3Warning\u001B[0m\u001B[33m: provide_context is deprecated as of \u001B[0m\u001B[1;33m2.0\u001B[0m\u001B[33m and is no longer required\u001B[0m\n"
      ],
      "text/html": [
       "<pre style=\"white-space:pre;overflow-x:auto;line-height:normal;font-family:Menlo,'DejaVu Sans Mono',consolas,'Courier New',monospace\"><span style=\"color: #808000; text-decoration-color: #808000; font-weight: bold\">/tmp/ipykernel_257372/4121765707.py:</span><span style=\"color: #808000; text-decoration-color: #808000; font-weight: bold\">1</span><span style=\"color: #808000; text-decoration-color: #808000; font-weight: bold\"> RemovedInAirflow3Warning</span><span style=\"color: #808000; text-decoration-color: #808000\">: provide_context is deprecated as of </span><span style=\"color: #808000; text-decoration-color: #808000; font-weight: bold\">2.0</span><span style=\"color: #808000; text-decoration-color: #808000\"> and is no longer required</span>\n",
       "</pre>\n"
      ]
     },
     "metadata": {},
     "output_type": "display_data"
    }
   ],
   "execution_count": 50
  },
  {
   "metadata": {
    "ExecuteTime": {
     "end_time": "2024-12-03T14:03:29.804333Z",
     "start_time": "2024-12-03T14:03:29.796434Z"
    }
   },
   "cell_type": "code",
   "source": [
    "transform_task = PythonOperator(\n",
    "        task_id=\"transform\",\n",
    "        python_callable=transform,\n",
    "        provide_context=True,\n",
    "        dag=dag,\n",
    "    )\n",
    "\n"
   ],
   "id": "cdbe17f554258d2b",
   "outputs": [
    {
     "data": {
      "text/plain": [
       "\u001B[1;33m/tmp/ipykernel_257372/\u001B[0m\u001B[1;33m1194897509.py\u001B[0m\u001B[1;33m:\u001B[0m\u001B[1;33m1\u001B[0m\u001B[1;33m RemovedInAirflow3Warning\u001B[0m\u001B[33m: provide_context is deprecated as of \u001B[0m\u001B[1;33m2.0\u001B[0m\u001B[33m and is no longer required\u001B[0m\n"
      ],
      "text/html": [
       "<pre style=\"white-space:pre;overflow-x:auto;line-height:normal;font-family:Menlo,'DejaVu Sans Mono',consolas,'Courier New',monospace\"><span style=\"color: #808000; text-decoration-color: #808000; font-weight: bold\">/tmp/ipykernel_257372/1194897509.py:</span><span style=\"color: #808000; text-decoration-color: #808000; font-weight: bold\">1</span><span style=\"color: #808000; text-decoration-color: #808000; font-weight: bold\"> RemovedInAirflow3Warning</span><span style=\"color: #808000; text-decoration-color: #808000\">: provide_context is deprecated as of </span><span style=\"color: #808000; text-decoration-color: #808000; font-weight: bold\">2.0</span><span style=\"color: #808000; text-decoration-color: #808000\"> and is no longer required</span>\n",
       "</pre>\n"
      ]
     },
     "metadata": {},
     "output_type": "display_data"
    }
   ],
   "execution_count": 51
  },
  {
   "metadata": {
    "ExecuteTime": {
     "end_time": "2024-12-03T14:03:30.448918Z",
     "start_time": "2024-12-03T14:03:30.441066Z"
    }
   },
   "cell_type": "code",
   "source": [
    "load_task = PythonOperator(\n",
    "        task_id=\"load\",\n",
    "        python_callable=load,\n",
    "        provide_context=True,\n",
    "        dag=dag,\n",
    "    )\n"
   ],
   "id": "fe93aa2667a3fbe5",
   "outputs": [
    {
     "data": {
      "text/plain": [
       "\u001B[1;33m/tmp/ipykernel_257372/\u001B[0m\u001B[1;33m234501888.py\u001B[0m\u001B[1;33m:\u001B[0m\u001B[1;33m1\u001B[0m\u001B[1;33m RemovedInAirflow3Warning\u001B[0m\u001B[33m: provide_context is deprecated as of \u001B[0m\u001B[1;33m2.0\u001B[0m\u001B[33m and is no longer required\u001B[0m\n"
      ],
      "text/html": [
       "<pre style=\"white-space:pre;overflow-x:auto;line-height:normal;font-family:Menlo,'DejaVu Sans Mono',consolas,'Courier New',monospace\"><span style=\"color: #808000; text-decoration-color: #808000; font-weight: bold\">/tmp/ipykernel_257372/234501888.py:</span><span style=\"color: #808000; text-decoration-color: #808000; font-weight: bold\">1</span><span style=\"color: #808000; text-decoration-color: #808000; font-weight: bold\"> RemovedInAirflow3Warning</span><span style=\"color: #808000; text-decoration-color: #808000\">: provide_context is deprecated as of </span><span style=\"color: #808000; text-decoration-color: #808000; font-weight: bold\">2.0</span><span style=\"color: #808000; text-decoration-color: #808000\"> and is no longer required</span>\n",
       "</pre>\n"
      ]
     },
     "metadata": {},
     "output_type": "display_data"
    }
   ],
   "execution_count": 52
  },
  {
   "metadata": {
    "ExecuteTime": {
     "end_time": "2024-12-03T14:03:31.834076Z",
     "start_time": "2024-12-03T14:03:31.825685Z"
    }
   },
   "cell_type": "code",
   "source": "extract_task >> transform_task >> load_task\n",
   "id": "4b5071355671692e",
   "outputs": [
    {
     "data": {
      "text/plain": [
       "<Task(PythonOperator): load>"
      ]
     },
     "execution_count": 53,
     "metadata": {},
     "output_type": "execute_result"
    }
   ],
   "execution_count": 53
  },
  {
   "metadata": {},
   "cell_type": "code",
   "outputs": [],
   "execution_count": null,
   "source": "",
   "id": "a7f1b0906aa90c37"
  }
 ],
 "metadata": {
  "kernelspec": {
   "display_name": "Python 3",
   "language": "python",
   "name": "python3"
  },
  "language_info": {
   "codemirror_mode": {
    "name": "ipython",
    "version": 2
   },
   "file_extension": ".py",
   "mimetype": "text/x-python",
   "name": "python",
   "nbconvert_exporter": "python",
   "pygments_lexer": "ipython2",
   "version": "2.7.6"
  }
 },
 "nbformat": 4,
 "nbformat_minor": 5
}
