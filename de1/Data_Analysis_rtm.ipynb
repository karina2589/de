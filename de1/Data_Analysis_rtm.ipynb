{
 "cells": [
  {
   "cell_type": "markdown",
   "metadata": {
    "id": "AXvQsqIUHqFT"
   },
   "source": [
    "##**Data preprocessing**"
   ]
  },
  {
   "cell_type": "code",
   "execution_count": null,
   "metadata": {
    "colab": {
     "base_uri": "https://localhost:8080/"
    },
    "id": "A4Q9xeTdBf1z",
    "outputId": "4480b8e3-2724-4ee3-9b81-125dea843164"
   },
   "outputs": [],
   "source": [
    "from google.colab import drive\n",
    "drive.mount('/content/drive')"
   ]
  },
  {
   "cell_type": "code",
   "execution_count": null,
   "metadata": {
    "id": "Vw511GSZDxse"
   },
   "outputs": [],
   "source": [
    "import pandas as pd"
   ]
  },
  {
   "cell_type": "code",
   "execution_count": null,
   "metadata": {
    "colab": {
     "base_uri": "https://localhost:8080/",
     "height": 655
    },
    "id": "XOv6WaXUDeoy",
    "outputId": "91da385b-dca7-4a75-e4ea-22d51687e301"
   },
   "outputs": [],
   "source": [
    "data_23 = pd.read_csv('/content/drive/MyDrive/RTM tasks/stackOverflow/survey_results_2023.csv')\n",
    "data_23.head()"
   ]
  },
  {
   "cell_type": "code",
   "execution_count": null,
   "metadata": {
    "colab": {
     "base_uri": "https://localhost:8080/",
     "height": 464
    },
    "id": "zAMSoNCeD02q",
    "outputId": "ed2e95a8-6b7f-453a-ec78-da751c4cb02f"
   },
   "outputs": [],
   "source": [
    "data_24 = pd.read_csv('/content/drive/MyDrive/RTM tasks/stackOverflow/survey_results_2024.csv')\n",
    "data_24.head()"
   ]
  },
  {
   "cell_type": "code",
   "execution_count": null,
   "metadata": {
    "colab": {
     "base_uri": "https://localhost:8080/"
    },
    "id": "g3YcF3OXD9-G",
    "outputId": "e5baeff6-c6ee-4f78-b760-ceb6013c3f20"
   },
   "outputs": [],
   "source": [
    "data_23.shape\n",
    "for col in data_23.columns:\n",
    "  for row in data_23[col].unique():\n",
    "    print(row)\n",
    "  print(col)"
   ]
  },
  {
   "cell_type": "code",
   "execution_count": null,
   "metadata": {
    "colab": {
     "base_uri": "https://localhost:8080/"
    },
    "id": "hvdaN02nNXBX",
    "outputId": "5e2aa9a8-6d58-40a0-d692-cee383c947fa"
   },
   "outputs": [],
   "source": [
    "data_23.columns"
   ]
  },
  {
   "cell_type": "code",
   "execution_count": null,
   "metadata": {
    "colab": {
     "base_uri": "https://localhost:8080/"
    },
    "id": "3h8Kse3FOCmL",
    "outputId": "673fb242-681b-476e-cdc0-773d803c481d"
   },
   "outputs": [],
   "source": [
    "data_23['Frequency_1'].unique()"
   ]
  },
  {
   "cell_type": "code",
   "execution_count": null,
   "metadata": {
    "colab": {
     "base_uri": "https://localhost:8080/"
    },
    "id": "f-df7H0BPN62",
    "outputId": "482d8bd5-11a0-4546-debb-463e00d5a5d9"
   },
   "outputs": [],
   "source": [
    "data_23['TimeAnswering'].unique()"
   ]
  },
  {
   "cell_type": "code",
   "execution_count": null,
   "metadata": {
    "colab": {
     "base_uri": "https://localhost:8080/"
    },
    "id": "7IOYUegYPqV7",
    "outputId": "367a38a6-2963-4d0b-bd55-5fc89e16ab02"
   },
   "outputs": [],
   "source": [
    "data_23 = data_23.drop(columns=['Knowledge_1', 'Knowledge_2', 'Knowledge_3', 'Knowledge_4',\n",
    "       'Knowledge_5', 'Knowledge_6', 'Knowledge_7', 'Knowledge_8',\n",
    "       'Frequency_1', 'Frequency_2', 'Frequency_3', 'TimeSearching',\n",
    "       'TimeAnswering'])\n",
    "data_23.columns"
   ]
  },
  {
   "cell_type": "code",
   "execution_count": null,
   "metadata": {
    "colab": {
     "base_uri": "https://localhost:8080/"
    },
    "id": "_om6tac1Q7Ck",
    "outputId": "a835655e-640f-4bc3-9d5c-16bcec6a117a"
   },
   "outputs": [],
   "source": [
    "data_23 = data_23.drop(columns=['AIToolNot interested in Using', 'AINextVery different',\n",
    "       'AINextNeither different nor similar', 'AINextSomewhat similar',\n",
    "       'AINextVery similar', 'AINextSomewhat different'])\n",
    "data_23.columns"
   ]
  },
  {
   "cell_type": "code",
   "execution_count": null,
   "metadata": {
    "id": "NVBTW1cMRNbo"
   },
   "outputs": [],
   "source": [
    "data_23 = data_23.drop(columns=['PurchaseInfluence', 'TechList', 'BuyNewTool','YearsCodePro',   'Currency', 'CompTotal','PlatformWantToWorkWith', 'MiscTechHaveWorkedWith',\n",
    "       'MiscTechWantToWorkWith', 'ToolsTechHaveWorkedWith',\n",
    "       'ToolsTechWantToWorkWith', 'NEWCollabToolsHaveWorkedWith',\n",
    "       'NEWCollabToolsWantToWorkWith',   'OpSysProfessional use', 'OfficeStackAsyncHaveWorkedWith',\n",
    "       'OfficeStackAsyncWantToWorkWith', 'OfficeStackSyncHaveWorkedWith',\n",
    "       'OfficeStackSyncWantToWorkWith', 'AISearchHaveWorkedWith',\n",
    "       'AISearchWantToWorkWith', 'AIDevWantToWorkWith',\n",
    "       'NEWSOSites', 'SOVisitFreq', 'SOAccount', 'SOPartFreq', 'SOComm',\n",
    "       'SOAI', 'AISelect', 'AISent', 'AIBen', 'TBranch', 'ICorPM', 'SurveyLength', 'SurveyEase',\n",
    "       'ConvertedCompYearly'\n",
    "\n",
    "])"
   ]
  },
  {
   "cell_type": "code",
   "execution_count": null,
   "metadata": {
    "id": "qKxRR-R_RVBo"
   },
   "outputs": [],
   "source": [
    "data_23.dropna(inplace=True)"
   ]
  },
  {
   "cell_type": "code",
   "execution_count": null,
   "metadata": {
    "colab": {
     "base_uri": "https://localhost:8080/",
     "height": 1000
    },
    "id": "WUshGBMJbJ_3",
    "outputId": "5ca6cfde-dadf-4d47-d971-64ff0ae5d271"
   },
   "outputs": [],
   "source": [
    "data_23.isna().sum()"
   ]
  },
  {
   "cell_type": "code",
   "execution_count": null,
   "metadata": {
    "colab": {
     "base_uri": "https://localhost:8080/"
    },
    "id": "mA0eB1GRbYPa",
    "outputId": "1967e70a-2fff-4753-e18a-07ebe3c18370"
   },
   "outputs": [],
   "source": [
    "data_23.shape"
   ]
  },
  {
   "cell_type": "code",
   "execution_count": null,
   "metadata": {
    "colab": {
     "base_uri": "https://localhost:8080/"
    },
    "id": "1c87YeqNbbUQ",
    "outputId": "236c506f-08cc-485e-90ba-91a7d41a3c7e"
   },
   "outputs": [],
   "source": [
    "data_23.duplicated().sum()"
   ]
  },
  {
   "cell_type": "code",
   "execution_count": null,
   "metadata": {
    "id": "LuHtfPkDbkxb"
   },
   "outputs": [],
   "source": [
    "data_23 = data_23.drop(columns=['ResponseId', 'Q120'])"
   ]
  },
  {
   "cell_type": "code",
   "execution_count": null,
   "metadata": {
    "colab": {
     "base_uri": "https://localhost:8080/"
    },
    "id": "jP9888OEb518",
    "outputId": "21b317d0-2d03-49a1-9252-422504a3c83c"
   },
   "outputs": [],
   "source": [
    "data_23.columns"
   ]
  },
  {
   "cell_type": "code",
   "execution_count": null,
   "metadata": {
    "colab": {
     "base_uri": "https://localhost:8080/"
    },
    "id": "EpATLfc8dVDH",
    "outputId": "4c2fcd21-32fa-4375-e0b5-7c88ea556d74"
   },
   "outputs": [],
   "source": [
    "data_23['EdLevel'].unique()"
   ]
  },
  {
   "cell_type": "code",
   "execution_count": null,
   "metadata": {
    "colab": {
     "base_uri": "https://localhost:8080/"
    },
    "id": "5xGJrWdudQTJ",
    "outputId": "67da74d6-82e5-4e9f-b40a-273827755d05"
   },
   "outputs": [],
   "source": [
    "columns_to_keep = ['MainBranch', 'Age', 'Employment', 'RemoteWork', 'CodingActivities',\n",
    "                   'EdLevel', 'LearnCode', 'LearnCodeOnline', 'LearnCodeCoursesCert',\n",
    "                   'YearsCode', 'DevType', 'OrgSize', 'Country', 'LanguageHaveWorkedWith',\n",
    "                   'LanguageWantToWorkWith', 'DatabaseHaveWorkedWith', 'DatabaseWantToWorkWith',\n",
    "                   'PlatformHaveWorkedWith', 'WebframeHaveWorkedWith', 'WebframeWantToWorkWith',\n",
    "                   'OpSysPersonal use', 'AIDevHaveWorkedWith', 'AIAcc',\n",
    "                   'AIToolInterested in Using', 'AIToolCurrently Using',\n",
    "                   'WorkExp', 'ProfessionalTech', 'Industry']\n",
    "\n",
    "missing_columns = set(columns_to_keep) - set(data_24.columns)\n",
    "\n",
    "if missing_columns:\n",
    "    print(f\"These columns are missing: {missing_columns}\")\n",
    "else:\n",
    "    print(\"All columns exist in the main table.\")\n"
   ]
  },
  {
   "cell_type": "code",
   "execution_count": null,
   "metadata": {
    "id": "pvhaG_sydu9S"
   },
   "outputs": [],
   "source": [
    "data_23 = data_23.drop(columns=['LearnCodeCoursesCert', 'AIDevHaveWorkedWith'])"
   ]
  },
  {
   "cell_type": "code",
   "execution_count": null,
   "metadata": {
    "colab": {
     "base_uri": "https://localhost:8080/"
    },
    "id": "HHFlgfgLeJzE",
    "outputId": "2588cdc7-473e-426e-bbbc-abfca4a2a831"
   },
   "outputs": [],
   "source": [
    "data_24.shape"
   ]
  },
  {
   "cell_type": "code",
   "execution_count": null,
   "metadata": {
    "colab": {
     "base_uri": "https://localhost:8080/",
     "height": 860
    },
    "id": "MrlToLSab8Wx",
    "outputId": "3d6d79b2-40e4-4243-d771-7e310dba155e"
   },
   "outputs": [],
   "source": [
    "columns_to_keep = ['MainBranch', 'Age', 'Employment', 'RemoteWork', 'CodingActivities',\n",
    "                   'EdLevel', 'LearnCode', 'LearnCodeOnline', 'YearsCode', 'DevType',\n",
    "                   'OrgSize', 'Country', 'LanguageHaveWorkedWith', 'LanguageWantToWorkWith',\n",
    "                   'DatabaseHaveWorkedWith', 'DatabaseWantToWorkWith', 'PlatformHaveWorkedWith',\n",
    "                   'WebframeHaveWorkedWith', 'WebframeWantToWorkWith', 'OpSysPersonal use',\n",
    "                   'AIAcc', 'AIToolInterested in Using', 'AIToolCurrently Using', 'WorkExp',\n",
    "                   'ProfessionalTech', 'Industry']\n",
    "\n",
    "data_24_filtered = data_24[columns_to_keep]\n",
    "data_24_filtered"
   ]
  },
  {
   "cell_type": "code",
   "execution_count": null,
   "metadata": {
    "colab": {
     "base_uri": "https://localhost:8080/"
    },
    "id": "Tfnjg1cZb_w4",
    "outputId": "7c434eb3-16c2-4043-be16-d553e30e1698"
   },
   "outputs": [],
   "source": [
    "data_24_filtered.shape"
   ]
  },
  {
   "cell_type": "code",
   "execution_count": null,
   "metadata": {
    "colab": {
     "base_uri": "https://localhost:8080/"
    },
    "id": "tA3m2nQHejEZ",
    "outputId": "1338896d-6ac9-4b8e-f309-c58265af72d2"
   },
   "outputs": [],
   "source": [
    "data_23.shape"
   ]
  },
  {
   "cell_type": "code",
   "execution_count": null,
   "metadata": {
    "colab": {
     "base_uri": "https://localhost:8080/"
    },
    "id": "hxNWdC8Aex7y",
    "outputId": "534b83f5-69a2-462b-e56f-c712d94b382b"
   },
   "outputs": [],
   "source": [
    "data_23.columns"
   ]
  },
  {
   "cell_type": "code",
   "execution_count": null,
   "metadata": {
    "colab": {
     "base_uri": "https://localhost:8080/"
    },
    "id": "Z59qLf8Re2Mk",
    "outputId": "a2a8ac09-8b93-492d-b87c-c2b9033fd9b5"
   },
   "outputs": [],
   "source": [
    "data_24_filtered.columns"
   ]
  },
  {
   "cell_type": "code",
   "execution_count": null,
   "metadata": {
    "colab": {
     "base_uri": "https://localhost:8080/"
    },
    "id": "xggSNsMCe3ku",
    "outputId": "f89fd582-5b1b-4335-d068-6523ac28d0ff"
   },
   "outputs": [],
   "source": [
    "data_24_filtered.dropna(inplace=True)\n",
    "data_24_filtered.drop_duplicates(inplace=True)"
   ]
  },
  {
   "cell_type": "code",
   "execution_count": null,
   "metadata": {
    "colab": {
     "base_uri": "https://localhost:8080/"
    },
    "id": "6CVVYuiwe_1K",
    "outputId": "83134e5b-bb61-4091-fdf9-9b55e04973eb"
   },
   "outputs": [],
   "source": [
    "data_24_filtered.shape"
   ]
  },
  {
   "cell_type": "code",
   "execution_count": null,
   "metadata": {
    "colab": {
     "base_uri": "https://localhost:8080/"
    },
    "id": "pc2jotyGfK8t",
    "outputId": "05719cdb-32a6-427e-aa7f-c9eaf13fed58"
   },
   "outputs": [],
   "source": [
    "data_23['MainBranch'].unique()"
   ]
  },
  {
   "cell_type": "code",
   "execution_count": null,
   "metadata": {
    "colab": {
     "base_uri": "https://localhost:8080/"
    },
    "id": "-QI2v3fBgVRh",
    "outputId": "bde76370-afec-4da6-c9a6-118d3d08b1a0"
   },
   "outputs": [],
   "source": [
    "merged_df = pd.concat([data_23, data_24_filtered], axis=0)\n",
    "merged_df.shape"
   ]
  },
  {
   "cell_type": "code",
   "execution_count": null,
   "metadata": {
    "id": "ePQlLtTumM8b"
   },
   "outputs": [],
   "source": [
    "learn_ways = merged_df['LearnCodeOnline'].unique()"
   ]
  },
  {
   "cell_type": "code",
   "execution_count": null,
   "metadata": {
    "colab": {
     "base_uri": "https://localhost:8080/"
    },
    "id": "POcE3FxUmRCP",
    "outputId": "42746c65-ac13-4c34-c3e6-64ba8b2d0bf7"
   },
   "outputs": [],
   "source": [
    "learn_ways"
   ]
  },
  {
   "cell_type": "code",
   "execution_count": null,
   "metadata": {
    "colab": {
     "base_uri": "https://localhost:8080/",
     "height": 1000
    },
    "id": "ZMOLbmybnMB6",
    "outputId": "8bd60b4b-6ed9-4244-8f66-95715994577a"
   },
   "outputs": [],
   "source": [
    "merged_df"
   ]
  },
  {
   "cell_type": "code",
   "execution_count": null,
   "metadata": {
    "colab": {
     "base_uri": "https://localhost:8080/"
    },
    "id": "hw-n10tPpSZu",
    "outputId": "02c47857-f982-452a-bce5-63850375fed7"
   },
   "outputs": [],
   "source": [
    "merged_df['Age'].unique()"
   ]
  },
  {
   "cell_type": "code",
   "execution_count": null,
   "metadata": {
    "id": "AIAyYsT7qJ_y"
   },
   "outputs": [],
   "source": [
    " copy_data = merged_df.copy()"
   ]
  },
  {
   "cell_type": "code",
   "execution_count": null,
   "metadata": {
    "colab": {
     "base_uri": "https://localhost:8080/",
     "height": 1000
    },
    "id": "eICwOZto05Bj",
    "outputId": "b1b5196b-b479-48c0-e8b7-39e80cd26832"
   },
   "outputs": [],
   "source": [
    "import pandas as pd\n",
    "\n",
    "\n",
    "def map_to_generation(age_group):\n",
    "    if age_group in ['25-34 years old', '35-44 years old']:\n",
    "        return 'Y'\n",
    "    elif age_group in ['18-24 years old', 'Under 18 years old']:\n",
    "        return 'Z'\n",
    "    elif age_group in ['45-54 years old', '55-64 years old']:\n",
    "        return 'X'\n",
    "    else:\n",
    "        return None  # To filter out 'Prefer not to say' and others\n",
    "\n",
    "copy_data['generation'] = copy_data['Age'].apply(map_to_generation)\n",
    "data_filtered = copy_data.dropna(subset=['generation'])\n",
    "\n",
    "data_filtered\n"
   ]
  },
  {
   "cell_type": "code",
   "execution_count": null,
   "metadata": {
    "id": "ZA_5siWd1Ge3"
   },
   "outputs": [],
   "source": [
    "data_filtered['generation'].unique()\n",
    "data_filtered = data_filtered.drop(columns=['Age'])"
   ]
  },
  {
   "cell_type": "code",
   "execution_count": null,
   "metadata": {
    "colab": {
     "base_uri": "https://localhost:8080/"
    },
    "id": "UF7j-mw62FEu",
    "outputId": "6db18024-3697-462f-82c3-5d5138f317d9"
   },
   "outputs": [],
   "source": [
    "generation_counts = data_filtered['generation'].value_counts()\n",
    "\n",
    "print(generation_counts)"
   ]
  },
  {
   "cell_type": "code",
   "execution_count": null,
   "metadata": {
    "colab": {
     "base_uri": "https://localhost:8080/"
    },
    "id": "fMrcuiJ42OPP",
    "outputId": "624b9d20-53a9-4f66-f5d4-fcba5db8152f"
   },
   "outputs": [],
   "source": [
    "data_filtered['Employment'].unique()"
   ]
  },
  {
   "cell_type": "code",
   "execution_count": null,
   "metadata": {
    "id": "EPUo3aSo2YAm"
   },
   "outputs": [],
   "source": [
    "def categorize_employment(status):\n",
    "    if 'Employed' in status:\n",
    "        return 'Employed'\n",
    "    else:\n",
    "        return 'Not employed'\n",
    "\n",
    "data_filtered['Employment_Status'] = data_filtered['Employment'].apply(categorize_employment)\n",
    "\n",
    "data_filtered = data_filtered.drop(columns=['Employment'])"
   ]
  },
  {
   "cell_type": "code",
   "execution_count": null,
   "metadata": {
    "colab": {
     "base_uri": "https://localhost:8080/",
     "height": 178
    },
    "id": "WekZZtxz4K1R",
    "outputId": "d331b5ef-67ad-48ec-830f-95c965a594fa"
   },
   "outputs": [],
   "source": [
    "data_filtered['Employment_Status'].value_counts()"
   ]
  },
  {
   "cell_type": "code",
   "execution_count": null,
   "metadata": {
    "colab": {
     "base_uri": "https://localhost:8080/"
    },
    "id": "lfwasJo54TlF",
    "outputId": "085d8b16-f3aa-4fa3-b2a8-da87e58c626f"
   },
   "outputs": [],
   "source": [
    "data_filtered['MainBranch'].unique()"
   ]
  },
  {
   "cell_type": "code",
   "execution_count": null,
   "metadata": {
    "id": "EgLmZD0o5x9L"
   },
   "outputs": [],
   "source": [
    "def shorten_main_branch(branch):\n",
    "    if branch == 'I am a developer by profession':\n",
    "        return 'Developer'\n",
    "    elif branch == 'I am not primarily a developer, but I write code sometimes as part of my work/studies':\n",
    "        return 'Non-developer'\n",
    "    else:\n",
    "        return branch\n",
    "\n",
    "data_filtered['MainBranch'] = data_filtered['MainBranch'].apply(shorten_main_branch)\n"
   ]
  },
  {
   "cell_type": "code",
   "execution_count": null,
   "metadata": {
    "id": "jFXbfzl26XfN"
   },
   "outputs": [],
   "source": [
    "data_filtered = data_filtered.drop(columns=['CodingActivities'])"
   ]
  },
  {
   "cell_type": "code",
   "execution_count": null,
   "metadata": {
    "colab": {
     "base_uri": "https://localhost:8080/"
    },
    "id": "dRxlChUg6gD7",
    "outputId": "752f4c6d-40a2-484d-88d7-dc6d0936c008"
   },
   "outputs": [],
   "source": [
    "data_filtered['EdLevel'].unique()"
   ]
  },
  {
   "cell_type": "code",
   "execution_count": null,
   "metadata": {
    "id": "IakIYD0r6z4o"
   },
   "outputs": [],
   "source": [
    "def categorize_education(education):\n",
    "    if education in [\n",
    "        'Bachelor’s degree (B.A., B.S., B.Eng., etc.)',\n",
    "        'Master’s degree (M.A., M.S., M.Eng., MBA, etc.)',\n",
    "        'Professional degree (JD, MD, Ph.D, Ed.D, etc.)'\n",
    "    ]:\n",
    "        return 'Degree'\n",
    "    elif education in [\n",
    "        'Some college/university study without earning a degree',\n",
    "        'Associate degree (A.A., A.S., etc.)'\n",
    "    ]:\n",
    "        return 'Some College'\n",
    "    elif education in [\n",
    "        'Secondary school (e.g. American high school, German Realschule or Gymnasium, etc.)',\n",
    "        'Primary/elementary school'\n",
    "    ]:\n",
    "        return 'Secondary Education'\n",
    "    else:\n",
    "        return 'Other'\n",
    "\n",
    "data_filtered['EdLevel'] = data_filtered['EdLevel'].apply(categorize_education)\n"
   ]
  },
  {
   "cell_type": "code",
   "execution_count": null,
   "metadata": {
    "colab": {
     "base_uri": "https://localhost:8080/"
    },
    "id": "Cb_VUqlN7aan",
    "outputId": "c83f4b01-b506-454c-8eea-c419411cdcfd"
   },
   "outputs": [],
   "source": [
    "data_filtered['LearnCodeOnline'].unique()"
   ]
  },
  {
   "cell_type": "code",
   "execution_count": null,
   "metadata": {
    "id": "mH3O5RA07ba0"
   },
   "outputs": [],
   "source": [
    "def categorize_resources(resources):\n",
    "    has_documentation = any(x in resources.lower() for x in [\n",
    "        'formal documentation', 'technical documentation', 'written tutorials', 'books'\n",
    "    ])\n",
    "    has_videos = any(x in resources.lower() for x in [\n",
    "        'video-based online courses', 'how-to videos', 'certification videos', 'recorded coding sessions'\n",
    "    ])\n",
    "    has_interactive = any(x in resources.lower() for x in [\n",
    "        'interactive tutorial', 'online challenges', 'blogs', 'auditory material'\n",
    "    ])\n",
    "\n",
    "    if has_documentation and not (has_videos or has_interactive):\n",
    "        return 'Documentation'\n",
    "    elif has_videos and not (has_documentation or has_interactive):\n",
    "        return 'Videos'\n",
    "    elif has_interactive and not (has_documentation or has_videos):\n",
    "        return 'Interactive'\n",
    "    else:\n",
    "        return 'Mixed Approaches'\n",
    "\n",
    "data_filtered['LearnCodeOnline'] = data_filtered['LearnCodeOnline'].apply(categorize_resources)\n"
   ]
  },
  {
   "cell_type": "code",
   "execution_count": null,
   "metadata": {
    "colab": {
     "base_uri": "https://localhost:8080/",
     "height": 241
    },
    "id": "I5x8nRsi816U",
    "outputId": "8630e7a8-0080-4dc8-b39b-f2ead9472ff8"
   },
   "outputs": [],
   "source": [
    "data_filtered['LearnCodeOnline'].value_counts()"
   ]
  },
  {
   "cell_type": "code",
   "execution_count": null,
   "metadata": {
    "colab": {
     "base_uri": "https://localhost:8080/"
    },
    "id": "M7qGbtS883ql",
    "outputId": "cb566651-e471-444b-f3dc-166113dbd834"
   },
   "outputs": [],
   "source": [
    "data_filtered['LearnCode'].unique()"
   ]
  },
  {
   "cell_type": "code",
   "execution_count": null,
   "metadata": {
    "id": "CRPW1s7g9NSR"
   },
   "outputs": [],
   "source": [
    "def categorize_resources(resources):\n",
    "    resources_list = resources.split(';')\n",
    "    if any('books' in r.lower() for r in resources_list):\n",
    "        return 'Books / Physical Media'\n",
    "    elif any('coding bootcamp' in r.lower() or 'online courses' in r.lower() for r in resources_list):\n",
    "        return 'Online Courses / Bootcamps'\n",
    "    elif any('colleague' in r.lower() or 'on the job training' in r.lower() for r in resources_list):\n",
    "        return 'Colleague / On-the-job Training'\n",
    "    elif any('other online resources' in r.lower() for r in resources_list):\n",
    "        return 'Other Online Resources'\n",
    "    else:\n",
    "        return 'Uncategorized'\n",
    "\n",
    "data_filtered['LearnCode'] = data_filtered['LearnCode'].apply(categorize_resources)\n"
   ]
  },
  {
   "cell_type": "code",
   "execution_count": null,
   "metadata": {
    "colab": {
     "base_uri": "https://localhost:8080/"
    },
    "id": "Xn39bDG6-Uxo",
    "outputId": "57c09009-54f6-4e45-d75c-e326ea9cd90b"
   },
   "outputs": [],
   "source": [
    "data_filtered['DevType'].unique()"
   ]
  },
  {
   "cell_type": "code",
   "execution_count": null,
   "metadata": {
    "id": "tjXbu_YCANre"
   },
   "outputs": [],
   "source": [
    "def categorize_job_titles(title):\n",
    "    if 'developer' in title.lower():\n",
    "        return 'Software Development Roles'\n",
    "    elif 'data' in title.lower() or 'research' in title.lower():\n",
    "        return 'Data Science and Research Roles'\n",
    "    elif 'manager' in title.lower() or 'executive' in title.lower() or 'project manager' in title.lower() or 'product manager' in title.lower():\n",
    "        return 'Management and Executive Roles'\n",
    "    elif 'devops' in title.lower() or 'administrator' in title.lower() or 'engineer' in title.lower():\n",
    "        return 'Engineering and Operations Roles'\n",
    "    elif 'educator' in title.lower() or 'advocate' in title.lower() or 'marketing' in title.lower() or 'sales' in title.lower() or 'other' in title.lower():\n",
    "        return 'Education, Advocacy, and Sales Roles'\n",
    "    else:\n",
    "        return 'Other Roles'\n",
    "\n",
    "\n",
    "data_filtered['DevType'] = data_filtered['DevType'].apply(categorize_job_titles)\n"
   ]
  },
  {
   "cell_type": "code",
   "execution_count": null,
   "metadata": {
    "colab": {
     "base_uri": "https://localhost:8080/",
     "height": 982
    },
    "id": "bbbncbmk_xoh",
    "outputId": "4a447ec4-4cb0-4566-fd21-b2c76378cec3"
   },
   "outputs": [],
   "source": [
    "data_filtered"
   ]
  },
  {
   "cell_type": "code",
   "execution_count": null,
   "metadata": {
    "colab": {
     "base_uri": "https://localhost:8080/"
    },
    "id": "lPqgbz84_0J9",
    "outputId": "d0575ccd-1617-43e1-c612-05d5db4334f1"
   },
   "outputs": [],
   "source": [
    "data_filtered['OrgSize'].unique()"
   ]
  },
  {
   "cell_type": "code",
   "execution_count": null,
   "metadata": {
    "id": "nhT3ZCtlCNLE"
   },
   "outputs": [],
   "source": [
    "def categorize_org_size(org_size):\n",
    "    if 'freelancer' in org_size.lower() or 'sole proprietor' in org_size.lower():\n",
    "        return 'Freelancers / Sole Proprietors'\n",
    "    elif 'i don’t know' in org_size.lower():\n",
    "        return 'Unknown'\n",
    "    elif any(size in org_size for size in ['2 to 9', '10 to 19', '20 to 99']):\n",
    "        return 'Small Organizations'\n",
    "    elif any(size in org_size for size in ['100 to 499', '500 to 999', '1,000 to 4,999', '5,000 to 9,999']):\n",
    "        return 'Medium Organizations'\n",
    "    elif '10,000 or more' in org_size:\n",
    "        return 'Large Organizations'\n",
    "    else:\n",
    "        return 'Uncategorized'\n",
    "\n",
    "data_filtered['OrgSize'] = data_filtered['OrgSize'].apply(categorize_org_size)\n"
   ]
  },
  {
   "cell_type": "code",
   "execution_count": null,
   "metadata": {
    "colab": {
     "base_uri": "https://localhost:8080/",
     "height": 982
    },
    "id": "6iILkL76CvPO",
    "outputId": "381891e3-5780-454c-ba93-47af06be5827"
   },
   "outputs": [],
   "source": [
    "data_filtered"
   ]
  },
  {
   "cell_type": "code",
   "execution_count": null,
   "metadata": {
    "colab": {
     "base_uri": "https://localhost:8080/"
    },
    "id": "ZK1Y5WRXCw3_",
    "outputId": "fb198202-6076-4de7-fed2-b61cc6afc26d"
   },
   "outputs": [],
   "source": [
    "data_filtered.columns"
   ]
  },
  {
   "cell_type": "code",
   "execution_count": null,
   "metadata": {
    "id": "ba0EXyKfDPXN"
   },
   "outputs": [],
   "source": [
    "data_filtered = data_filtered.drop(columns=['OpSysPersonal use',\n",
    "       'AIAcc', 'AIToolInterested in Using', 'AIToolCurrently Using', 'ProfessionalTech', 'DatabaseWantToWorkWith', 'PlatformHaveWorkedWith', ])"
   ]
  },
  {
   "cell_type": "code",
   "execution_count": null,
   "metadata": {
    "id": "oRvGccwXFIaZ"
   },
   "outputs": [],
   "source": [
    "data_filtered = data_filtered.drop(columns=['DatabaseHaveWorkedWith', 'LanguageWantToWorkWith', 'WebframeWantToWorkWith'])"
   ]
  },
  {
   "cell_type": "code",
   "execution_count": null,
   "metadata": {
    "colab": {
     "base_uri": "https://localhost:8080/",
     "height": 930
    },
    "id": "Bd1kFPv3D24c",
    "outputId": "6a92360f-1446-4fc9-9336-b014dc9aa354"
   },
   "outputs": [],
   "source": [
    "data_filtered"
   ]
  },
  {
   "cell_type": "code",
   "execution_count": null,
   "metadata": {
    "colab": {
     "base_uri": "https://localhost:8080/"
    },
    "id": "Ol0AH4bAEu03",
    "outputId": "68242894-cac7-4fa3-b097-6abdef02de64"
   },
   "outputs": [],
   "source": [
    "data_filtered['LanguageHaveWorkedWith'].unique()"
   ]
  },
  {
   "cell_type": "code",
   "execution_count": null,
   "metadata": {
    "id": "-eYP1l0ZFmcA"
   },
   "outputs": [],
   "source": [
    "def categorize_languages(languages):\n",
    "    languages_list = languages.split(';')\n",
    "    categories = set()\n",
    "\n",
    "    if any(lang in languages_list for lang in ['HTML/CSS', 'JavaScript', 'TypeScript']):\n",
    "        categories.add('Web Development')\n",
    "    if any(lang in languages_list for lang in ['Python', 'Java', 'Go', 'C#', 'PHP']):\n",
    "        categories.add('Server-Side Development')\n",
    "    if any(lang in languages_list for lang in ['Dart', 'Kotlin']):\n",
    "        categories.add('Mobile Development')\n",
    "    if any(lang in languages_list for lang in ['C', 'C++', 'Rust', 'Elixir']):\n",
    "        categories.add('System Programming')\n",
    "\n",
    "    return ', '.join(categories) if categories else 'Uncategorized'\n",
    "\n",
    "data_filtered['Language_Category'] = data_filtered['LanguageHaveWorkedWith'].apply(categorize_languages)\n"
   ]
  },
  {
   "cell_type": "code",
   "execution_count": null,
   "metadata": {
    "colab": {
     "base_uri": "https://localhost:8080/",
     "height": 930
    },
    "id": "NpC5GKamGAps",
    "outputId": "20e8a665-84c8-40ae-a10c-337b394ded4f"
   },
   "outputs": [],
   "source": [
    "data_filtered"
   ]
  },
  {
   "cell_type": "code",
   "execution_count": null,
   "metadata": {
    "id": "g64pu3ZqGhBp"
   },
   "outputs": [],
   "source": [
    "data_filtered = data_filtered.drop(columns=['Language_Categories'])"
   ]
  },
  {
   "cell_type": "code",
   "execution_count": null,
   "metadata": {
    "colab": {
     "base_uri": "https://localhost:8080/"
    },
    "id": "YLXIKUlQGhyM",
    "outputId": "6ee1f2ff-eaee-41f4-87de-67ae89220329"
   },
   "outputs": [],
   "source": [
    "data_filtered['WebframeHaveWorkedWith'].unique()"
   ]
  },
  {
   "cell_type": "code",
   "execution_count": null,
   "metadata": {
    "id": "w_EbQ6zNHBD1"
   },
   "outputs": [],
   "source": [
    "def categorize_web_technologies(technologies):\n",
    "    tech_list = technologies.split(';')\n",
    "    categories = set()\n",
    "\n",
    "    if any(tech in tech_list for tech in ['React', 'Vue.js', 'Angular', 'Next.js', 'Remix', 'Gatsby', 'Svelte']):\n",
    "        categories.add('Frontend Technologies')\n",
    "    if any(tech in tech_list for tech in ['Node.js', 'Express', 'Spring Boot']):\n",
    "        categories.add('Backend Technologies')\n",
    "    if 'jQuery' in tech_list:\n",
    "        categories.add('JavaScript Libraries')\n",
    "    if 'Astro' in tech_list:\n",
    "        categories.add('Static Site Generators')\n",
    "\n",
    "    return ', '.join(categories) if categories else 'Uncategorized'\n",
    "\n",
    "data_filtered['Tech_Category'] = data_filtered['WebframeHaveWorkedWith'].apply(categorize_web_technologies)\n"
   ]
  },
  {
   "cell_type": "code",
   "execution_count": null,
   "metadata": {
    "colab": {
     "base_uri": "https://localhost:8080/",
     "height": 964
    },
    "id": "o8sOvmBbHZnn",
    "outputId": "fe1e0210-45f2-4492-f66d-1ebb9632f7fa"
   },
   "outputs": [],
   "source": [
    "data_filtered"
   ]
  },
  {
   "cell_type": "code",
   "execution_count": null,
   "metadata": {
    "id": "N_jv2e-3HblM"
   },
   "outputs": [],
   "source": [
    "data_filtered = data_filtered.drop(columns=['LanguageHaveWorkedWith', 'WebframeHaveWorkedWith'])"
   ]
  },
  {
   "cell_type": "code",
   "execution_count": null,
   "metadata": {
    "colab": {
     "base_uri": "https://localhost:8080/",
     "height": 892
    },
    "id": "Pa71ssQkHsOy",
    "outputId": "f9c393c0-fbde-4bb7-8150-f42fe25e5bb9"
   },
   "outputs": [],
   "source": [
    "data_filtered"
   ]
  },
  {
   "cell_type": "code",
   "execution_count": null,
   "metadata": {
    "colab": {
     "base_uri": "https://localhost:8080/"
    },
    "id": "hqfmfqpeHt0k",
    "outputId": "55c09dc1-7560-43fb-84dc-df9425409eb0"
   },
   "outputs": [],
   "source": [
    "data_filtered['Industry'].unique()"
   ]
  },
  {
   "cell_type": "code",
   "execution_count": null,
   "metadata": {
    "id": "4XVGxUPYH9YE"
   },
   "outputs": [],
   "source": [
    "def categorize_industries(industry):\n",
    "    if 'technology' in industry.lower() or 'software' in industry.lower() or 'information' in industry.lower():\n",
    "        return 'Technology and Information Services'\n",
    "    elif 'financial' in industry.lower() or 'banking' in industry.lower() or 'fintech' in industry.lower() or 'insurance' in industry.lower():\n",
    "        return 'Financial Sector'\n",
    "    elif 'manufacturing' in industry.lower() or 'oil' in industry.lower() or 'transportation' in industry.lower():\n",
    "        return 'Manufacturing Sector'\n",
    "    elif 'healthcare' in industry.lower() or 'education' in industry.lower():\n",
    "        return 'Healthcare and Education'\n",
    "    elif 'retail' in industry.lower() or 'advertising' in industry.lower() or 'media' in industry.lower() or 'legal' in industry.lower():\n",
    "        return 'Services and Advertising'\n",
    "    else:\n",
    "        return 'Government and Other Services'\n",
    "\n",
    "data_filtered['Industry'] = data_filtered['Industry'].apply(categorize_industries)\n"
   ]
  },
  {
   "cell_type": "code",
   "execution_count": null,
   "metadata": {
    "colab": {
     "base_uri": "https://localhost:8080/",
     "height": 910
    },
    "id": "BJmBK2qcIOzg",
    "outputId": "741c75de-fce3-4599-a322-d60446daa2b1"
   },
   "outputs": [],
   "source": [
    "data_filtered"
   ]
  },
  {
   "cell_type": "code",
   "execution_count": null,
   "metadata": {
    "colab": {
     "base_uri": "https://localhost:8080/",
     "height": 17
    },
    "id": "5TLZonAlLP2b",
    "outputId": "f8bc2510-47d2-43f5-9c79-e5a7c18fa213"
   },
   "outputs": [],
   "source": [
    "from google.colab import files\n",
    "\n",
    "data_filtered.to_csv('stackOverflowSurvey.csv', index=False)\n",
    "\n",
    "files.download('stackOverflowSurvey.csv')"
   ]
  },
  {
   "cell_type": "markdown",
   "metadata": {
    "id": "XOTaGoLGKJfF"
   },
   "source": [
    "##**Data analysis**"
   ]
  },
  {
   "cell_type": "code",
   "execution_count": null,
   "metadata": {
    "colab": {
     "base_uri": "https://localhost:8080/"
    },
    "id": "rLsxBGZmj1HI",
    "outputId": "e79f0e8c-c541-4ed4-899d-07d95e35174e"
   },
   "outputs": [],
   "source": [
    "from google.colab import drive\n",
    "drive.mount('/content/drive')"
   ]
  },
  {
   "cell_type": "code",
   "execution_count": null,
   "metadata": {
    "id": "oy6tnuh4IYAI"
   },
   "outputs": [],
   "source": [
    "import pandas as pd"
   ]
  },
  {
   "cell_type": "code",
   "execution_count": null,
   "metadata": {
    "colab": {
     "base_uri": "https://localhost:8080/",
     "height": 910
    },
    "id": "rkagqeXMj536",
    "outputId": "97e61229-b2f8-451e-f710-5898794fad19"
   },
   "outputs": [],
   "source": [
    "table = pd.read_csv('/content/drive/MyDrive/RTM tasks/stackOverflow/stackOverflowSurvey.csv')\n",
    "table"
   ]
  },
  {
   "cell_type": "markdown",
   "metadata": {
    "id": "vmtIYyBuK_ys"
   },
   "source": [
    "###**Что привело людей в айти(какие подходы)**\n",
    "####онлайн-курсы/ книги по программированию/ документации"
   ]
  },
  {
   "cell_type": "code",
   "execution_count": null,
   "metadata": {
    "colab": {
     "base_uri": "https://localhost:8080/",
     "height": 241
    },
    "id": "G760qE9xIcE6",
    "outputId": "dc7a9128-5000-4f2d-9e6e-5836b7a81cdb"
   },
   "outputs": [],
   "source": [
    "table['LearnCode'].value_counts()"
   ]
  }
 ],
 "metadata": {
  "accelerator": "GPU",
  "colab": {
   "gpuType": "T4",
   "provenance": []
  },
  "kernelspec": {
   "display_name": "Python 3 (ipykernel)",
   "language": "python",
   "name": "python3"
  },
  "language_info": {
   "codemirror_mode": {
    "name": "ipython",
    "version": 3
   },
   "file_extension": ".py",
   "mimetype": "text/x-python",
   "name": "python",
   "nbconvert_exporter": "python",
   "pygments_lexer": "ipython3",
   "version": "3.9.19"
  }
 },
 "nbformat": 4,
 "nbformat_minor": 4
}
